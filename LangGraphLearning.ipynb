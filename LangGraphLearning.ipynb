{
  "nbformat": 4,
  "nbformat_minor": 0,
  "metadata": {
    "colab": {
      "provenance": [],
      "toc_visible": true,
      "authorship_tag": "ABX9TyMe0HM1FnmKFAoEfrqIJS/h",
      "include_colab_link": true
    },
    "kernelspec": {
      "name": "python3",
      "display_name": "Python 3"
    },
    "language_info": {
      "name": "python"
    }
  },
  "cells": [
    {
      "cell_type": "markdown",
      "metadata": {
        "id": "view-in-github",
        "colab_type": "text"
      },
      "source": [
        "<a href=\"https://colab.research.google.com/github/Rai-shwith/learn-langgraph/blob/main/LangGraphLearning.ipynb\" target=\"_parent\"><img src=\"https://colab.research.google.com/assets/colab-badge.svg\" alt=\"Open In Colab\"/></a>"
      ]
    },
    {
      "cell_type": "markdown",
      "source": [
        "# Lang Graph Learnings:\n",
        " This will be my notebook to learn and practice Langgraph \\\\\n",
        " source: [freeCodeCamp](https://www.youtube.com/watch?v=jGg_1h0qzaM&t=4209s)"
      ],
      "metadata": {
        "id": "fTXUSB93fPUc"
      }
    },
    {
      "cell_type": "markdown",
      "source": [
        "## Installation"
      ],
      "metadata": {
        "id": "hkPtOs_mfrec"
      }
    },
    {
      "cell_type": "code",
      "source": [
        "!pip install langgraph --q"
      ],
      "metadata": {
        "colab": {
          "base_uri": "https://localhost:8080/"
        },
        "id": "DwMEuZE-hddo",
        "outputId": "6f139745-1a11-49d5-953c-5ff3b72a299d"
      },
      "execution_count": 1,
      "outputs": [
        {
          "output_type": "stream",
          "name": "stdout",
          "text": [
            "\u001b[2K     \u001b[90m━━━━━━━━━━━━━━━━━━━━━━━━━━━━━━━━━━━━━━━━\u001b[0m \u001b[32m43.7/43.7 kB\u001b[0m \u001b[31m1.5 MB/s\u001b[0m eta \u001b[36m0:00:00\u001b[0m\n",
            "\u001b[2K   \u001b[90m━━━━━━━━━━━━━━━━━━━━━━━━━━━━━━━━━━━━━━━━\u001b[0m \u001b[32m153.2/153.2 kB\u001b[0m \u001b[31m2.7 MB/s\u001b[0m eta \u001b[36m0:00:00\u001b[0m\n",
            "\u001b[2K   \u001b[90m━━━━━━━━━━━━━━━━━━━━━━━━━━━━━━━━━━━━━━━━\u001b[0m \u001b[32m43.9/43.9 kB\u001b[0m \u001b[31m3.2 MB/s\u001b[0m eta \u001b[36m0:00:00\u001b[0m\n",
            "\u001b[2K   \u001b[90m━━━━━━━━━━━━━━━━━━━━━━━━━━━━━━━━━━━━━━━━\u001b[0m \u001b[32m50.6/50.6 kB\u001b[0m \u001b[31m2.9 MB/s\u001b[0m eta \u001b[36m0:00:00\u001b[0m\n",
            "\u001b[2K   \u001b[90m━━━━━━━━━━━━━━━━━━━━━━━━━━━━━━━━━━━━━━━━\u001b[0m \u001b[32m216.5/216.5 kB\u001b[0m \u001b[31m15.7 MB/s\u001b[0m eta \u001b[36m0:00:00\u001b[0m\n",
            "\u001b[?25h"
          ]
        }
      ]
    },
    {
      "cell_type": "markdown",
      "source": [
        "## Imports"
      ],
      "metadata": {
        "id": "xG1cEeT-fy3R"
      }
    },
    {
      "cell_type": "code",
      "execution_count": null,
      "metadata": {
        "id": "sibpxJ-U4ktp"
      },
      "outputs": [],
      "source": [
        "from typing import Dict,TypedDict\n",
        "from langgraph.graph import StateGraph"
      ]
    },
    {
      "cell_type": "markdown",
      "source": [
        "## State of the Langgraph"
      ],
      "metadata": {
        "id": "pEO8Xvvuf2vg"
      }
    },
    {
      "cell_type": "code",
      "source": [
        "class AgentState(TypedDict):\n",
        "  message:str"
      ],
      "metadata": {
        "id": "X54O0ctA5ERB"
      },
      "execution_count": null,
      "outputs": []
    },
    {
      "cell_type": "markdown",
      "source": [
        "## Node of the Graph"
      ],
      "metadata": {
        "id": "KdrtMaBBf-tk"
      }
    },
    {
      "cell_type": "code",
      "source": [
        "def greeting_node(state:AgentState)->AgentState:\n",
        "  \"\"\"Simple Node that greets the users\"\"\"\n",
        "  state[\"message\"]= f'Hey, {state[\"message\"]} How are you doing?'\n",
        "  return state"
      ],
      "metadata": {
        "id": "ETBOUtQn5Xmc"
      },
      "execution_count": null,
      "outputs": []
    },
    {
      "cell_type": "markdown",
      "source": [
        "## Graph initialization"
      ],
      "metadata": {
        "id": "ECVMZfZJgDSU"
      }
    },
    {
      "cell_type": "code",
      "source": [
        "graph = StateGraph(AgentState)\n",
        "graph.add_node(\"Greeter\",greeting_node)\n",
        "graph.set_entry_point(\"Greeter\")\n",
        "graph.set_finish_point(\"Greeter\")\n",
        "app = graph.compile()"
      ],
      "metadata": {
        "id": "vYhjNJ8m6gSG"
      },
      "execution_count": null,
      "outputs": []
    },
    {
      "cell_type": "markdown",
      "source": [
        "## Working with compiled app"
      ],
      "metadata": {
        "id": "eqvmLAExgGfH"
      }
    },
    {
      "cell_type": "code",
      "source": [
        "result = app.invoke({\"message\":\"Alex\"})\n",
        "result[\"message\"]"
      ],
      "metadata": {
        "colab": {
          "base_uri": "https://localhost:8080/",
          "height": 35
        },
        "id": "jS3uOrin8M4L",
        "outputId": "ccc32b15-c11c-4732-86e7-11dc24d89895"
      },
      "execution_count": null,
      "outputs": [
        {
          "output_type": "execute_result",
          "data": {
            "text/plain": [
              "'Hey, Alex How are you doing?'"
            ],
            "application/vnd.google.colaboratory.intrinsic+json": {
              "type": "string"
            }
          },
          "metadata": {},
          "execution_count": 7
        }
      ]
    },
    {
      "cell_type": "markdown",
      "source": [
        "## Exercise: Personalized Complement Agent"
      ],
      "metadata": {
        "id": "n_4hjMRl9ATQ"
      }
    },
    {
      "cell_type": "code",
      "source": [
        "class TaskState(TypedDict):\n",
        "  name:str\n",
        "\n",
        "def compliment(state:TaskState)->TaskState:\n",
        "  \"\"\"Creates a Personalized Compliment\"\"\"\n",
        "  state[\"name\"] = f\"{state['name']}, you're doing an amazing job!\"\n",
        "  return state\n",
        "\n",
        "graph = StateGraph(TaskState)\n",
        "graph.add_node('compliment',compliment)\n",
        "graph.set_entry_point('compliment')\n",
        "graph.set_finish_point('compliment')\n",
        "app = graph.compile()\n",
        "result = app.invoke({'name':'Bob'})\n",
        "result[\"name\"]\n"
      ],
      "metadata": {
        "colab": {
          "base_uri": "https://localhost:8080/",
          "height": 35
        },
        "id": "ndp1IhDJ9IkB",
        "outputId": "f93ccc7e-4cba-437a-dc39-7a2c9a7f70c4"
      },
      "execution_count": null,
      "outputs": [
        {
          "output_type": "execute_result",
          "data": {
            "text/plain": [
              "\"Bob, you're doing an amazing job!\""
            ],
            "application/vnd.google.colaboratory.intrinsic+json": {
              "type": "string"
            }
          },
          "metadata": {},
          "execution_count": 8
        }
      ]
    },
    {
      "cell_type": "markdown",
      "source": [
        "## Multiple Inputs"
      ],
      "metadata": {
        "id": "hHHKdzkbhjFg"
      }
    },
    {
      "cell_type": "code",
      "source": [
        "from typing import List, TypedDict\n",
        "from langgraph.graph import StateGraph"
      ],
      "metadata": {
        "id": "tgoMf44AhnSB"
      },
      "execution_count": null,
      "outputs": []
    },
    {
      "cell_type": "code",
      "source": [
        "class AgentState(TypedDict):\n",
        "  values:list[int]\n",
        "  name: str\n",
        "  result: str"
      ],
      "metadata": {
        "id": "7TDwqdpsh1HD"
      },
      "execution_count": null,
      "outputs": []
    },
    {
      "cell_type": "code",
      "source": [
        "def process_values(state:AgentState)->AgentState:\n",
        "  \"\"\"This function handles multiple inputs\"\"\"\n",
        "  state['result'] = f\"Hello bro, Is your name {state['name']}, cuz your sum is {state['values']}\"\n",
        "  return state"
      ],
      "metadata": {
        "id": "9h88_3beiGy9"
      },
      "execution_count": null,
      "outputs": []
    },
    {
      "cell_type": "code",
      "source": [
        "graph  = StateGraph(AgentState)\n",
        "graph.add_node(\"processor\",process_values)\n",
        "graph.set_entry_point(\"processor\")\n",
        "graph.set_finish_point(\"processor\")\n",
        "app = graph.compile()"
      ],
      "metadata": {
        "id": "mEMvqtOWjlNK"
      },
      "execution_count": null,
      "outputs": []
    },
    {
      "cell_type": "code",
      "source": [
        "result = app.invoke({\"values\":[1,2,3,4],\"name\":\"Ash\"})\n",
        "result"
      ],
      "metadata": {
        "colab": {
          "base_uri": "https://localhost:8080/"
        },
        "id": "EQzduushkTNe",
        "outputId": "842f3fe6-d1b0-44b0-c6ee-55b70131424b"
      },
      "execution_count": null,
      "outputs": [
        {
          "output_type": "execute_result",
          "data": {
            "text/plain": [
              "{'values': [1, 2, 3, 4],\n",
              " 'name': 'Ash',\n",
              " 'result': 'Hello bro, Is your name Ash, cuz your sum is [1, 2, 3, 4]'}"
            ]
          },
          "metadata": {},
          "execution_count": 13
        }
      ]
    },
    {
      "cell_type": "markdown",
      "source": [
        "## Sequential Graph"
      ],
      "metadata": {
        "id": "HDL6GqKhmV5H"
      }
    },
    {
      "cell_type": "code",
      "source": [
        "from langgraph.graph import StateGraph\n",
        "from typing import TypedDict"
      ],
      "metadata": {
        "id": "UCGQLDKymarc"
      },
      "execution_count": null,
      "outputs": []
    },
    {
      "cell_type": "code",
      "source": [
        "class AgentState(TypedDict):\n",
        "  name:str\n",
        "  age:int\n",
        "  final:str\n",
        "\n",
        "def first_node(state:AgentState)->AgentState:\n",
        "  \"\"\"This is the first Node\"\"\"\n",
        "  state['final'] = f\"Hello, {state['name']}. \"\n",
        "  return state\n",
        "\n",
        "\n",
        "def second_node(state:AgentState)->AgentState:\n",
        "  \"\"\"This is the second Node\"\"\"\n",
        "  state['final'] = state['final']+ f\"You are {state['age']} years old\"\n",
        "  return state\n",
        "\n",
        "\n",
        "graph = StateGraph(AgentState)\n",
        "graph.add_node(\"first\",first_node)\n",
        "graph.add_node(\"second\",second_node)\n",
        "graph.set_entry_point(\"first\")\n",
        "graph.set_finish_point(\"second\")\n",
        "graph.add_edge('first','second')\n",
        "app = graph.compile()\n",
        "res = app.invoke({\"name\":\"Alex\",\"age\":20})\n",
        "res"
      ],
      "metadata": {
        "colab": {
          "base_uri": "https://localhost:8080/"
        },
        "id": "1VyBIil5m-BI",
        "outputId": "d0bd88d1-b175-4314-865d-8d21d62fe3eb"
      },
      "execution_count": null,
      "outputs": [
        {
          "output_type": "execute_result",
          "data": {
            "text/plain": [
              "{'name': 'Alex', 'age': 20, 'final': 'Hello, Alex. You are 20 years old'}"
            ]
          },
          "metadata": {},
          "execution_count": 19
        }
      ]
    },
    {
      "cell_type": "markdown",
      "source": [
        "## Exercise for Sequential Graph"
      ],
      "metadata": {
        "id": "eGW6XeCrp8ge"
      }
    },
    {
      "cell_type": "code",
      "source": [
        "from typing import TypedDict\n",
        "from langgraph.graph import StateGraph\n",
        "\n",
        "class AgentState(TypedDict):\n",
        "  name:str\n",
        "  age:int\n",
        "  skills:list[str]\n",
        "  message:str\n",
        "\n",
        "def greet(state:AgentState)-> AgentState:\n",
        "  \"\"\"This node greets\"\"\"\n",
        "  state['message'] = f\"{state['name']}, welcome to the system!\"\n",
        "  return state\n",
        "\n",
        "def age_node(state:AgentState)->AgentState:\n",
        "  \"\"\"This adds age details to the message\"\"\"\n",
        "  state['age'] = f\"{state['message']} You are {state['age']} years old!\"\n",
        "\n",
        "def skill_adder(state:AgentState)->AgentState:\n",
        "  \"\"\"This section adds the skill details\"\"\"\n",
        "  state['message'] = state['message'] + f\" You have skills in: {', '.join(state['skills'][:-1])+', and '+ state['skills'][-1] if len(state['skills']) > 1 else state['skills'][0]}\"\n",
        "  return state\n",
        "\n",
        "graph = StateGraph(AgentState)\n",
        "graph.add_node(\"greet\",greet)\n",
        "graph.add_node(\"age\",age_node)\n",
        "graph.add_node('skill',skill_adder)\n",
        "graph.set_entry_point(\"greet\")\n",
        "graph.set_finish_point('skill')\n",
        "graph.add_edge(\"greet\",\"age\")\n",
        "graph.add_edge(\"age\",\"skill\")\n",
        "app = graph.compile()\n",
        "app.invoke({'name':\"Linda\",\"age\":31,\"skills\":[\"Python\",\"Machine Learning\", \"LangGraph\"]})"
      ],
      "metadata": {
        "colab": {
          "base_uri": "https://localhost:8080/"
        },
        "id": "MdhYW1__qAlk",
        "outputId": "563d5bb8-f8e8-458c-9aee-aee12c6b1bac"
      },
      "execution_count": null,
      "outputs": [
        {
          "output_type": "execute_result",
          "data": {
            "text/plain": [
              "{'name': 'Linda',\n",
              " 'age': 31,\n",
              " 'skills': ['Python', 'Machine Learning', 'LangGraph'],\n",
              " 'message': 'Linda, welcome to the system! You have skills in: Python, Machine Learning, and LangGraph'}"
            ]
          },
          "metadata": {},
          "execution_count": 25
        }
      ]
    },
    {
      "cell_type": "markdown",
      "source": [
        "## Conditional Agent"
      ],
      "metadata": {
        "id": "Pxh4U9BfyXmL"
      }
    },
    {
      "cell_type": "code",
      "source": [
        "from typing import TypedDict\n",
        "from langgraph.graph import StateGraph, START,END\n",
        "\n",
        "class AgentState(TypedDict):\n",
        "  num1:int\n",
        "  num2:int\n",
        "  op:str\n",
        "  res:int\n",
        "\n",
        "def adder(state:AgentState)->AgentState:\n",
        "  \"\"\"This node adds\"\"\"\n",
        "  state['res'] = state['num1'] + state['num2']\n",
        "  return state\n",
        "\n",
        "def subtracter(state:AgentState)->AgentState:\n",
        "  \"\"\"This node subtracts\"\"\"\n",
        "  state['res'] = state['num1'] - state['num2']\n",
        "  return state\n",
        "\n",
        "def decide_node(state:AgentState)->str:\n",
        "  \"\"\"This is the router function\"\"\"\n",
        "  if state['op']==\"+\":\n",
        "    return \"addition_edge\"\n",
        "  elif state['op']==\"-\":\n",
        "    return \"subtraction_edge\"\n",
        "\n",
        "graph=StateGraph(AgentState)\n",
        "graph.add_node(\"add\",adder)\n",
        "graph.add_node(\"sub\",subtracter)\n",
        "graph.add_node(\"router\",lambda state:state)\n",
        "graph.add_edge(START,\"router\")\n",
        "graph.add_conditional_edges(\"router\",decide_node,{\n",
        "    \"addition_edge\":\"add\",\n",
        "    \"subtraction_edge\":\"sub\"\n",
        "})\n",
        "graph.add_edge(\"add\",END)\n",
        "graph.add_edge(\"sub\",END)\n",
        "app = graph.compile()\n",
        "app.invoke({\"num1\":20,\"num2\":10,\"op\":\"-\"})"
      ],
      "metadata": {
        "id": "eCoXzdlKyW5H",
        "colab": {
          "base_uri": "https://localhost:8080/"
        },
        "outputId": "0a1dd58a-50dc-45b8-e3ba-815d55657ca7"
      },
      "execution_count": null,
      "outputs": [
        {
          "output_type": "execute_result",
          "data": {
            "text/plain": [
              "{'num1': 20, 'num2': 10, 'op': '-', 'res': 10}"
            ]
          },
          "metadata": {},
          "execution_count": 6
        }
      ]
    },
    {
      "cell_type": "markdown",
      "source": [
        "## Exercise: 2 Conditional Edges"
      ],
      "metadata": {
        "id": "FeOXN8UrUsbQ"
      }
    },
    {
      "cell_type": "code",
      "source": [
        "from langgraph.graph import StateGraph,START,END\n",
        "from typing import TypedDict\n",
        "\n",
        "class AgentState(TypedDict):\n",
        "  num1:int\n",
        "  num2:int\n",
        "  num3:int\n",
        "  num4:int\n",
        "  op1:str\n",
        "  op2:str\n",
        "  res1:int\n",
        "  res2:int\n",
        "\n",
        "def decide_first(state:AgentState)->str:\n",
        "  \"\"\"Decides which edge to choose in first \"\"\"\n",
        "  if state[\"op1\"] == \"+\":\n",
        "    return \"first_add\"\n",
        "  else:\n",
        "    return \"first_sub\"\n",
        "\n",
        "def decide_sec(state:AgentState)->str:\n",
        "  \"\"\"Decides which edge to choose in second \"\"\"\n",
        "\n",
        "  if state[\"op2\"] == \"+\":\n",
        "    return \"sec_add\"\n",
        "  else:\n",
        "    return \"sec_sub\"\n",
        "\n",
        "def adder1(state:AgentState)->AgentState:\n",
        "  \"\"\"Adds 2 numbers and stores the result1\"\"\"\n",
        "  state[\"res1\"] = state[\"num1\"]+state[\"num2\"]\n",
        "  return state\n",
        "\n",
        "def adder2(state:AgentState)->AgentState:\n",
        "  \"\"\"Adds 2 numbers and stores the result2\"\"\"\n",
        "  state[\"res2\"] = state[\"num3\"]+state[\"num4\"]\n",
        "  return state\n",
        "\n",
        "def sub1(state:AgentState)->AgentState:\n",
        "  \"\"\"subtracts 2 numbers and stores the result1\"\"\"\n",
        "  state[\"res1\"] = state[\"num1\"]-state[\"num2\"]\n",
        "  return state\n",
        "\n",
        "def sub2(state:AgentState)->AgentState:\n",
        "  \"\"\"subtracts 2 numbers and stores the result2\"\"\"\n",
        "  state[\"res2\"] = state[\"num3\"]-state[\"num4\"]\n",
        "  return state\n",
        "\n",
        "def show(state:AgentState)->AgentState:\n",
        "  \"\"\"This node is used to show the result\"\"\"\n",
        "  print(f\"{state['num1']} {state['op1']} {state['num2']} = {state['res1']}\")\n",
        "  print(f\"{state['num3']} {state['op2']} {state['num4']} = {state['res2']}\")\n",
        "  return state\n",
        "\n",
        "\n",
        "graph = StateGraph(AgentState)\n",
        "graph.add_node(\"add1\",adder1)\n",
        "graph.add_node(\"sub1\",sub1)\n",
        "graph.add_node(\"add2\",adder2)\n",
        "graph.add_node(\"sub2\",sub2)\n",
        "graph.add_node(\"router1\",lambda state:state)\n",
        "graph.add_node(\"router2\",lambda state:state)\n",
        "graph.add_node(\"show\",show)\n",
        "graph.add_conditional_edges(\"router1\",decide_first,{\n",
        "    \"first_add\":\"add1\",\n",
        "    \"first_sub\":\"sub1\"\n",
        "})\n",
        "graph.add_conditional_edges(\"router2\",decide_sec,{\n",
        "    \"sec_add\":\"add2\",\n",
        "    \"sec_sub\":\"sub2\"\n",
        "})\n",
        "graph.add_edge(START,\"router1\")\n",
        "graph.add_edge(\"add1\",\"router2\")\n",
        "graph.add_edge(\"sub1\",\"router2\")\n",
        "graph.add_edge(\"add2\",\"show\")\n",
        "graph.add_edge(\"sub2\",\"show\")\n",
        "graph.add_edge(\"show\",END)\n",
        "app = graph.compile()\n",
        "app.invoke({\"num1\":10,\"num2\":5,\"num3\":30,\"num4\":20,\"op1\":\"-\",\"op2\":\"-\"})"
      ],
      "metadata": {
        "colab": {
          "base_uri": "https://localhost:8080/"
        },
        "id": "A3ElaE_RUypK",
        "outputId": "cd035a09-2c94-406e-89e1-6b03d60c5067"
      },
      "execution_count": 11,
      "outputs": [
        {
          "output_type": "stream",
          "name": "stdout",
          "text": [
            "10 - 5 = 5\n",
            "30 - 20 = 10\n"
          ]
        },
        {
          "output_type": "execute_result",
          "data": {
            "text/plain": [
              "{'num1': 10,\n",
              " 'num2': 5,\n",
              " 'num3': 30,\n",
              " 'num4': 20,\n",
              " 'op1': '-',\n",
              " 'op2': '-',\n",
              " 'res1': 5,\n",
              " 'res2': 10}"
            ]
          },
          "metadata": {},
          "execution_count": 11
        }
      ]
    },
    {
      "cell_type": "markdown",
      "source": [
        "## Loops"
      ],
      "metadata": {
        "id": "RxHPSo7jfIZM"
      }
    },
    {
      "cell_type": "code",
      "source": [
        "from langgraph.graph import StateGraph,START,END\n",
        "from typing import TypedDict\n",
        "import random\n",
        "import time\n",
        "\n",
        "class AgentState(TypedDict):\n",
        "  name:str\n",
        "  nums:list[int]\n",
        "  count:int\n",
        "\n",
        "\n",
        "def greet(state:AgentState)->AgentState:\n",
        "  \"\"\"Greets user\"\"\"\n",
        "  state[\"name\"] = f\"Hi there, {state['name']}\"\n",
        "  state[\"count\"] = 0\n",
        "  state['nums'] = []\n",
        "  return state\n",
        "\n",
        "def rnd(state:AgentState)->AgentState:\n",
        "  \"\"\"Appends a random no. to list\"\"\"\n",
        "  state[\"nums\"].append(random.randint(0,10))\n",
        "  state[\"count\"]+=1\n",
        "  return state\n",
        "\n",
        "def looper(state:AgentState)->str:\n",
        "  \"\"\"Decides to loop or not\"\"\"\n",
        "  if state[\"count\"] < 5:\n",
        "    print(\"looping...\")\n",
        "    # time.sleep(0.5)\n",
        "    return \"loop\"\n",
        "  print(\"Comming out!\")\n",
        "  return \"exit\"\n",
        "\n",
        "graph = StateGraph(AgentState)\n",
        "graph.add_node(\"greet\",greet)\n",
        "graph.add_node(\"random\",rnd)\n",
        "graph.add_edge(START,\"greet\")\n",
        "graph.add_edge(\"greet\",\"random\")\n",
        "graph.add_conditional_edges(\"random\",looper,{\n",
        "    \"loop\":\"random\",\n",
        "    \"exit\":END\n",
        "})\n",
        "app = graph.compile()\n",
        "app.invoke({\"name\":\"Ashwith\"})"
      ],
      "metadata": {
        "colab": {
          "base_uri": "https://localhost:8080/"
        },
        "id": "vs6GiBTafKs1",
        "outputId": "22505dd6-aa37-4ca8-c182-39936f15420b"
      },
      "execution_count": 18,
      "outputs": [
        {
          "output_type": "stream",
          "name": "stdout",
          "text": [
            "looping...\n",
            "looping...\n",
            "looping...\n",
            "looping...\n",
            "Comming out!\n"
          ]
        },
        {
          "output_type": "execute_result",
          "data": {
            "text/plain": [
              "{'name': 'Hi there, Ashwith', 'nums': [10, 4, 3, 3, 5], 'count': 5}"
            ]
          },
          "metadata": {},
          "execution_count": 18
        }
      ]
    },
    {
      "cell_type": "markdown",
      "source": [
        "## Exercise: Automatic Higher or Lower Game"
      ],
      "metadata": {
        "id": "yT0IPWHIkqa_"
      }
    },
    {
      "cell_type": "code",
      "source": [
        "from langgraph.graph import StateGraph,START,END\n",
        "from typing import TypedDict\n",
        "import random\n",
        "\n",
        "class AgentState(TypedDict):\n",
        "  name:str\n",
        "  lo:int\n",
        "  hi:int\n",
        "  guesses:list[int]\n",
        "  count:int\n",
        "  correct:bool\n",
        "\n",
        "\n",
        "def setup(state:AgentState)->AgentState:\n",
        "  \"\"\"initailizes the params\"\"\"\n",
        "  state['name'] = input(\"Enter your name: \")\n",
        "  print(\"Hello \",state['name'],\" welcome to number guesser \\n think of a number.\")\n",
        "  state['lo'] = int(input(\"Enter the lower limit: \"))\n",
        "  state['hi'] = int(input(\"Enter the higher limit: \"))\n",
        "  state[\"count\"] = 14\n",
        "  state[\"guesses\"]=[]\n",
        "  state[\"correct\"] = False\n",
        "  return state\n",
        "\n",
        "def guess(state:AgentState)->AgentState:\n",
        "  \"\"\"Guesses a number based on limits\"\"\"\n",
        "  # guess = random.randint(state['lo'],state['hi']+1)\n",
        "  guess = (state['lo']+state['hi'])//2\n",
        "\n",
        "  state[\"guesses\"].append(guess)\n",
        "  state[\"count\"]-=1\n",
        "  return state\n",
        "\n",
        "def check(state:AgentState)->AgentState:\n",
        "  \"\"\"Checks if the number is correct or not\"\"\"\n",
        "  state['correct'] = input(f\"Is your guess {state['guesses'][-1]}:(y/n): \") == 'y'\n",
        "  return state\n",
        "\n",
        "def decide(state:AgentState)->str:\n",
        "  \"\"\"Decides to exit or ask for hint\"\"\"\n",
        "  if not state['correct'] and state[\"count\"] > 0:\n",
        "    return \"ask_hints\"\n",
        "  if state['correct'] and state[\"count\"] != 0:\n",
        "    print(\"Woohooo I guessed it right!!!\")\n",
        "  else:\n",
        "    print(\"Sorry i couldn't guess\")\n",
        "  return \"exit\"\n",
        "\n",
        "\n",
        "def hint(state:AgentState)->AgentState:\n",
        "  \"\"\"Asks for the hints\"\"\"\n",
        "  hint = input(\"Enter (h) if the guess was higher else (l): \")\n",
        "  if hint == 'h':\n",
        "    state['hi']=state['guesses'][-1]-1\n",
        "    return state\n",
        "  elif hint == 'l':\n",
        "    state['lo']=state['guesses'][-1]+1\n",
        "    return state\n",
        "  else:\n",
        "    print(\"you typed something other than (h/l)\")\n",
        "    return hint(state)h\n",
        "\n",
        "graph = StateGraph(AgentState)\n",
        "graph.add_node('set',setup)\n",
        "graph.add_node('guess',guess)\n",
        "graph.add_node('hint',hint)\n",
        "graph.add_node('check',check)\n",
        "graph.add_edge(START,'set')\n",
        "graph.add_edge(\"set\",\"guess\")\n",
        "graph.add_edge(\"guess\",\"check\")\n",
        "graph.add_conditional_edges(\"check\",decide,{\n",
        "    \"ask_hints\":\"hint\",\n",
        "    \"exit\":END\n",
        "})\n",
        "graph.add_edge(\"hint\",\"guess\")\n",
        "app = graph.compile()\n",
        "app.invoke({})"
      ],
      "metadata": {
        "colab": {
          "base_uri": "https://localhost:8080/",
          "height": 738
        },
        "id": "ICesLNGzkw3h",
        "outputId": "6a8c3d45-68ac-41ad-e9c7-5123e2007c74"
      },
      "execution_count": 38,
      "outputs": [
        {
          "name": "stdout",
          "output_type": "stream",
          "text": [
            "Enter your name: anvi\n",
            "Hello  anvi  welcome to number guesser \n",
            " think of a number.\n",
            "Enter the lower limit: 0\n",
            "Enter the higher limit: 1000\n",
            "Is your guess 500:(y/n): n\n",
            "Enter (h) if the guess was higher else (l): l\n",
            "Is your guess 750:(y/n): n\n",
            "Enter (h) if the guess was higher else (l): h\n",
            "Is your guess 625:(y/n): n\n",
            "Enter (h) if the guess was higher else (l): h\n",
            "Is your guess 562:(y/n): n\n",
            "Enter (h) if the guess was higher else (l): h\n",
            "Is your guess 531:(y/n): n\n",
            "Enter (h) if the guess was higher else (l): l\n",
            "Is your guess 546:(y/n): n\n",
            "Enter (h) if the guess was higher else (l): h\n",
            "Is your guess 538:(y/n): n\n",
            "Enter (h) if the guess was higher else (l): l\n",
            "Is your guess 542:(y/n): n\n",
            "Enter (h) if the guess was higher else (l): l\n"
          ]
        },
        {
          "output_type": "error",
          "ename": "GraphRecursionError",
          "evalue": "Recursion limit of 25 reached without hitting a stop condition. You can increase the limit by setting the `recursion_limit` config key.\nFor troubleshooting, visit: https://python.langchain.com/docs/troubleshooting/errors/GRAPH_RECURSION_LIMIT",
          "traceback": [
            "\u001b[0;31m---------------------------------------------------------------------------\u001b[0m",
            "\u001b[0;31mGraphRecursionError\u001b[0m                       Traceback (most recent call last)",
            "\u001b[0;32m/tmp/ipython-input-1381495501.py\u001b[0m in \u001b[0;36m<cell line: 0>\u001b[0;34m()\u001b[0m\n\u001b[1;32m     75\u001b[0m \u001b[0mgraph\u001b[0m\u001b[0;34m.\u001b[0m\u001b[0madd_edge\u001b[0m\u001b[0;34m(\u001b[0m\u001b[0;34m\"hint\"\u001b[0m\u001b[0;34m,\u001b[0m\u001b[0;34m\"guess\"\u001b[0m\u001b[0;34m)\u001b[0m\u001b[0;34m\u001b[0m\u001b[0;34m\u001b[0m\u001b[0m\n\u001b[1;32m     76\u001b[0m \u001b[0mapp\u001b[0m \u001b[0;34m=\u001b[0m \u001b[0mgraph\u001b[0m\u001b[0;34m.\u001b[0m\u001b[0mcompile\u001b[0m\u001b[0;34m(\u001b[0m\u001b[0;34m)\u001b[0m\u001b[0;34m\u001b[0m\u001b[0;34m\u001b[0m\u001b[0m\n\u001b[0;32m---> 77\u001b[0;31m \u001b[0mapp\u001b[0m\u001b[0;34m.\u001b[0m\u001b[0minvoke\u001b[0m\u001b[0;34m(\u001b[0m\u001b[0;34m{\u001b[0m\u001b[0;34m}\u001b[0m\u001b[0;34m)\u001b[0m\u001b[0;34m\u001b[0m\u001b[0;34m\u001b[0m\u001b[0m\n\u001b[0m",
            "\u001b[0;32m/usr/local/lib/python3.11/dist-packages/langgraph/pregel/main.py\u001b[0m in \u001b[0;36minvoke\u001b[0;34m(self, input, config, context, stream_mode, print_mode, output_keys, interrupt_before, interrupt_after, durability, **kwargs)\u001b[0m\n\u001b[1;32m   3024\u001b[0m         \u001b[0minterrupts\u001b[0m\u001b[0;34m:\u001b[0m \u001b[0mlist\u001b[0m\u001b[0;34m[\u001b[0m\u001b[0mInterrupt\u001b[0m\u001b[0;34m]\u001b[0m \u001b[0;34m=\u001b[0m \u001b[0;34m[\u001b[0m\u001b[0;34m]\u001b[0m\u001b[0;34m\u001b[0m\u001b[0;34m\u001b[0m\u001b[0m\n\u001b[1;32m   3025\u001b[0m \u001b[0;34m\u001b[0m\u001b[0m\n\u001b[0;32m-> 3026\u001b[0;31m         for chunk in self.stream(\n\u001b[0m\u001b[1;32m   3027\u001b[0m             \u001b[0minput\u001b[0m\u001b[0;34m,\u001b[0m\u001b[0;34m\u001b[0m\u001b[0;34m\u001b[0m\u001b[0m\n\u001b[1;32m   3028\u001b[0m             \u001b[0mconfig\u001b[0m\u001b[0;34m,\u001b[0m\u001b[0;34m\u001b[0m\u001b[0;34m\u001b[0m\u001b[0m\n",
            "\u001b[0;32m/usr/local/lib/python3.11/dist-packages/langgraph/pregel/main.py\u001b[0m in \u001b[0;36mstream\u001b[0;34m(self, input, config, context, stream_mode, print_mode, output_keys, interrupt_before, interrupt_after, durability, subgraphs, debug, **kwargs)\u001b[0m\n\u001b[1;32m   2673\u001b[0m                     \u001b[0merror_code\u001b[0m\u001b[0;34m=\u001b[0m\u001b[0mErrorCode\u001b[0m\u001b[0;34m.\u001b[0m\u001b[0mGRAPH_RECURSION_LIMIT\u001b[0m\u001b[0;34m,\u001b[0m\u001b[0;34m\u001b[0m\u001b[0;34m\u001b[0m\u001b[0m\n\u001b[1;32m   2674\u001b[0m                 )\n\u001b[0;32m-> 2675\u001b[0;31m                 \u001b[0;32mraise\u001b[0m \u001b[0mGraphRecursionError\u001b[0m\u001b[0;34m(\u001b[0m\u001b[0mmsg\u001b[0m\u001b[0;34m)\u001b[0m\u001b[0;34m\u001b[0m\u001b[0;34m\u001b[0m\u001b[0m\n\u001b[0m\u001b[1;32m   2676\u001b[0m             \u001b[0;31m# set final channel values as run output\u001b[0m\u001b[0;34m\u001b[0m\u001b[0;34m\u001b[0m\u001b[0m\n\u001b[1;32m   2677\u001b[0m             \u001b[0mrun_manager\u001b[0m\u001b[0;34m.\u001b[0m\u001b[0mon_chain_end\u001b[0m\u001b[0;34m(\u001b[0m\u001b[0mloop\u001b[0m\u001b[0;34m.\u001b[0m\u001b[0moutput\u001b[0m\u001b[0;34m)\u001b[0m\u001b[0;34m\u001b[0m\u001b[0;34m\u001b[0m\u001b[0m\n",
            "\u001b[0;31mGraphRecursionError\u001b[0m: Recursion limit of 25 reached without hitting a stop condition. You can increase the limit by setting the `recursion_limit` config key.\nFor troubleshooting, visit: https://python.langchain.com/docs/troubleshooting/errors/GRAPH_RECURSION_LIMIT"
          ]
        }
      ]
    },
    {
      "cell_type": "code",
      "source": [],
      "metadata": {
        "id": "BO6o31JjwONn"
      },
      "execution_count": null,
      "outputs": []
    }
  ]
}